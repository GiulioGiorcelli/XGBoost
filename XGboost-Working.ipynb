{
 "cells": [
  {
   "cell_type": "code",
   "execution_count": null,
   "metadata": {
    "collapsed": true
   },
   "outputs": [],
   "source": [
    "###Start\n",
    "# coding: utf-8\n",
    "print(\"-----------------------------\")\n",
    "print(\"Author: Giulio Giorcelli\")\n",
    "print(\"Algorithm: XGBoost regression to predict sales\")\n",
    "print(\"Last update: 07-23-2017\")\n",
    "print(\"-----------------------------\\n\")"
   ]
  },
  {
   "cell_type": "code",
   "execution_count": 2,
   "metadata": {
    "collapsed": false,
    "deletable": true,
    "editable": true,
    "scrolled": true
   },
   "outputs": [
    {
     "name": "stderr",
     "output_type": "stream",
     "text": [
      "/Library/Frameworks/Python.framework/Versions/3.6/lib/python3.6/site-packages/sklearn/cross_validation.py:44: DeprecationWarning: This module was deprecated in version 0.18 in favor of the model_selection module into which all the refactored classes and functions are moved. Also note that the interface of the new CV iterators are different from that of this module. This module will be removed in 0.20.\n",
      "  \"This module will be removed in 0.20.\", DeprecationWarning)\n",
      "/Library/Frameworks/Python.framework/Versions/3.6/lib/python3.6/site-packages/sklearn/grid_search.py:43: DeprecationWarning: This module was deprecated in version 0.18 in favor of the model_selection module into which all the refactored classes and functions are moved. This module will be removed in 0.20.\n",
      "  DeprecationWarning)\n"
     ]
    }
   ],
   "source": [
    "import os\n",
    "import pandas as pd\n",
    "import xgboost as xgb\n",
    "import numpy as np\n",
    "import sys\n",
    "import sklearn\n",
    "from xgboost.sklearn import XGBClassifier\n",
    "from xgboost.sklearn import XGBRegressor\n",
    "from sklearn.preprocessing import LabelEncoder\n",
    "from sklearn import cross_validation, metrics   #Additional scklearn functions for CV, other stuff ##deprecated\n",
    "from sklearn.grid_search import GridSearchCV  #Perforing grid search  ##deprecated\n",
    "from sklearn import model_selection\n",
    "from sklearn.metrics import mean_absolute_error, mean_squared_error\n"
   ]
  },
  {
   "cell_type": "code",
   "execution_count": 3,
   "metadata": {
    "collapsed": false,
    "deletable": true,
    "editable": true
   },
   "outputs": [],
   "source": [
    "import matplotlib.pylab as plt\n",
    "%matplotlib inline\n",
    "from matplotlib.pylab import rcParams\n",
    "rcParams['figure.figsize'] = 12, 4"
   ]
  },
  {
   "cell_type": "code",
   "execution_count": 1,
   "metadata": {
    "collapsed": true
   },
   "outputs": [],
   "source": [
    "import os"
   ]
  },
  {
   "cell_type": "code",
   "execution_count": 2,
   "metadata": {
    "collapsed": false
   },
   "outputs": [
    {
     "data": {
      "text/plain": [
       "environ({'ALLUSERSPROFILE': 'C:\\\\ProgramData', 'APPDATA': 'C:\\\\Users\\\\ggiorcelli\\\\AppData\\\\Roaming', 'COMMONPROGRAMFILES': 'C:\\\\Program Files\\\\Common Files', 'COMMONPROGRAMFILES(X86)': 'C:\\\\Program Files (x86)\\\\Common Files', 'COMMONPROGRAMW6432': 'C:\\\\Program Files\\\\Common Files', 'COMPUTERNAME': 'BCOLT-GGIOR', 'COMSPEC': 'C:\\\\windows\\\\system32\\\\cmd.exe', 'DATACONNECTORLIBPATH': 'C:\\\\Program Files\\\\Teradata\\\\Client\\\\15.10\\\\bin\\\\;C:\\\\Program Files (x86)\\\\Teradata\\\\Client\\\\15.10\\\\bin\\\\', 'HOMEDRIVE': 'C:', 'HOMEPATH': '\\\\Users\\\\ggiorcelli', 'LOCALAPPDATA': 'C:\\\\Users\\\\ggiorcelli\\\\AppData\\\\Local', 'LOGONSERVER': '\\\\\\\\HHC-AD-02', 'NUMBER_OF_PROCESSORS': '8', 'ONEDRIVE': 'C:\\\\Users\\\\ggiorcelli\\\\OneDrive', 'OS': 'Windows_NT', 'PATH': 'C:\\\\Users\\\\ggiorcelli\\\\AppData\\\\Local\\\\Continuum\\\\Anaconda3\\\\Library\\\\bin;C:\\\\Users\\\\ggiorcelli\\\\AppData\\\\Local\\\\Continuum\\\\Anaconda3\\\\Library\\\\bin;C:\\\\Users\\\\ggiorcelli\\\\AppData\\\\Local\\\\Continuum\\\\Anaconda3;C:\\\\Users\\\\ggiorcelli\\\\AppData\\\\Local\\\\Continuum\\\\Anaconda3\\\\Library\\\\mingw-w64\\\\bin;C:\\\\Users\\\\ggiorcelli\\\\AppData\\\\Local\\\\Continuum\\\\Anaconda3\\\\Library\\\\usr\\\\bin;C:\\\\Users\\\\ggiorcelli\\\\AppData\\\\Local\\\\Continuum\\\\Anaconda3\\\\Library\\\\bin;C:\\\\Users\\\\ggiorcelli\\\\AppData\\\\Local\\\\Continuum\\\\Anaconda3\\\\Scripts;C:\\\\Users\\\\ggiorcelli\\\\AppData\\\\Local\\\\Continuum\\\\Anaconda3\\\\Library\\\\bin;C:\\\\Program Files\\\\Teradata\\\\Client\\\\15.10\\\\bin;C:\\\\Program Files (x86)\\\\Teradata\\\\Client\\\\15.10\\\\bin;C:\\\\app\\\\oracle\\\\product\\\\12.1.0\\\\client_1\\\\bin;C:\\\\ProgramData\\\\Oracle\\\\Java\\\\javapath;C:\\\\windows\\\\system32;C:\\\\windows;C:\\\\windows\\\\System32\\\\Wbem;C:\\\\windows\\\\System32\\\\WindowsPowerShell\\\\v1.0\\\\;C:\\\\Program Files\\\\Intel\\\\WiFi\\\\bin\\\\;C:\\\\Program Files\\\\Common Files\\\\Intel\\\\WirelessCommon\\\\;C:\\\\Program Files\\\\CMake\\\\bin;C:\\\\Program Files\\\\Git\\\\cmd;C:\\\\Users\\\\ggiorcelli\\\\AppData\\\\Local\\\\Continuum\\\\Anaconda3;C:\\\\Users\\\\ggiorcelli\\\\AppData\\\\Local\\\\Continuum\\\\Anaconda3\\\\Scripts;C:\\\\Users\\\\ggiorcelli\\\\AppData\\\\Local\\\\Continuum\\\\Anaconda3\\\\Library\\\\bin;C:\\\\Users\\\\ggiorcelli\\\\AppData\\\\Local\\\\Microsoft\\\\WindowsApps;C:\\\\ProgramData\\\\ggiorcelli\\\\atom\\\\bin', 'PATHEXT': '.COM;.EXE;.BAT;.CMD;.VBS;.VBE;.JS;.JSE;.WSF;.WSH;.MSC', 'PROCESSOR_ARCHITECTURE': 'AMD64', 'PROCESSOR_IDENTIFIER': 'Intel64 Family 6 Model 60 Stepping 3, GenuineIntel', 'PROCESSOR_LEVEL': '6', 'PROCESSOR_REVISION': '3c03', 'PROGRAMDATA': 'C:\\\\ProgramData', 'PROGRAMFILES': 'C:\\\\Program Files', 'PROGRAMFILES(X86)': 'C:\\\\Program Files (x86)', 'PROGRAMW6432': 'C:\\\\Program Files', 'PSMODULEPATH': 'C:\\\\windows\\\\system32\\\\WindowsPowerShell\\\\v1.0\\\\Modules\\\\', 'PUBLIC': 'C:\\\\Users\\\\Public', 'SESSIONNAME': 'Console', 'SYSTEMDRIVE': 'C:', 'SYSTEMROOT': 'C:\\\\windows', 'TEMP': 'C:\\\\Users\\\\GGIORC~1\\\\AppData\\\\Local\\\\Temp', 'TMP': 'C:\\\\Users\\\\GGIORC~1\\\\AppData\\\\Local\\\\Temp', 'TVT': 'C:\\\\Program Files (x86)\\\\Lenovo', 'USERDNSDOMAIN': 'INTERNAL.LOWERMYBILLS.COM', 'USERDOMAIN': 'LMB', 'USERDOMAIN_ROAMINGPROFILE': 'LMB', 'USERNAME': 'ggiorcelli', 'USERPROFILE': 'C:\\\\Users\\\\ggiorcelli', 'WINDIR': 'C:\\\\windows', 'CONDA_PREFIX': 'C:\\\\Users\\\\ggiorcelli\\\\AppData\\\\Local\\\\Continuum\\\\Anaconda3', 'JPY_INTERRUPT_EVENT': '1632', 'IPY_INTERRUPT_EVENT': '1632', 'JPY_PARENT_PID': '1340', 'TERM': 'xterm-color', 'CLICOLOR': '1', 'PAGER': 'cat', 'GIT_PAGER': 'cat', 'MPLBACKEND': 'module://ipykernel.pylab.backend_inline'})"
      ]
     },
     "execution_count": 2,
     "metadata": {},
     "output_type": "execute_result"
    }
   ],
   "source": [
    "os.environ"
   ]
  },
  {
   "cell_type": "code",
   "execution_count": null,
   "metadata": {
    "collapsed": true
   },
   "outputs": [],
   "source": []
  },
  {
   "cell_type": "code",
   "execution_count": 4,
   "metadata": {
    "collapsed": false,
    "deletable": true,
    "editable": true
   },
   "outputs": [
    {
     "name": "stderr",
     "output_type": "stream",
     "text": [
      "/Library/Frameworks/Python.framework/Versions/3.6/lib/python3.6/site-packages/sklearn/learning_curve.py:23: DeprecationWarning: This module was deprecated in version 0.18 in favor of the model_selection module into which all the functions are moved. This module will be removed in 0.20\n",
      "  DeprecationWarning)\n"
     ]
    }
   ],
   "source": [
    "#New import cell\n",
    "from sklearn.learning_curve import validation_curve\n",
    "from sklearn.datasets import load_svmlight_files\n",
    "from sklearn.datasets import (make_classification, make_regression)\n",
    "from sklearn.cross_validation import StratifiedKFold\n",
    "from scipy import vstack \n",
    "import matplotlib.pyplot as plt2\n",
    "\n",
    "#Ensuring reproducibilty\n",
    "seed = 123\n",
    "np.random.seed(seed)"
   ]
  },
  {
   "cell_type": "code",
   "execution_count": 6,
   "metadata": {
    "collapsed": false,
    "deletable": true,
    "editable": true
   },
   "outputs": [
    {
     "data": {
      "text/html": [
       "<div>\n",
       "<table border=\"1\" class=\"dataframe\">\n",
       "  <thead>\n",
       "    <tr style=\"text-align: right;\">\n",
       "      <th></th>\n",
       "      <th>Unnamed: 0</th>\n",
       "      <th>lead_cdd_id</th>\n",
       "      <th>zip</th>\n",
       "      <th>lead_yearmonth</th>\n",
       "      <th>total_leads</th>\n",
       "      <th>total_sales</th>\n",
       "      <th>code_1_sales</th>\n",
       "      <th>code_2_sales</th>\n",
       "      <th>code_3_sales</th>\n",
       "      <th>seasonality_index</th>\n",
       "      <th>forecast_leads</th>\n",
       "      <th>dma_name</th>\n",
       "      <th>close_rate</th>\n",
       "      <th>dma_size</th>\n",
       "      <th>new_inv</th>\n",
       "      <th>used_inv</th>\n",
       "    </tr>\n",
       "  </thead>\n",
       "  <tbody>\n",
       "    <tr>\n",
       "      <th>0</th>\n",
       "      <td>1</td>\n",
       "      <td>100</td>\n",
       "      <td>35233</td>\n",
       "      <td>201609</td>\n",
       "      <td>1</td>\n",
       "      <td>0</td>\n",
       "      <td>0</td>\n",
       "      <td>0</td>\n",
       "      <td>0</td>\n",
       "      <td>0.964</td>\n",
       "      <td>13</td>\n",
       "      <td>BIRMINGHAM (ANN AND TUSC)</td>\n",
       "      <td>0.000000</td>\n",
       "      <td>1</td>\n",
       "      <td>139</td>\n",
       "      <td>89</td>\n",
       "    </tr>\n",
       "    <tr>\n",
       "      <th>1</th>\n",
       "      <td>2</td>\n",
       "      <td>100</td>\n",
       "      <td>35233</td>\n",
       "      <td>201611</td>\n",
       "      <td>3</td>\n",
       "      <td>0</td>\n",
       "      <td>0</td>\n",
       "      <td>0</td>\n",
       "      <td>0</td>\n",
       "      <td>0.896</td>\n",
       "      <td>13</td>\n",
       "      <td>BIRMINGHAM (ANN AND TUSC)</td>\n",
       "      <td>0.000000</td>\n",
       "      <td>1</td>\n",
       "      <td>127</td>\n",
       "      <td>98</td>\n",
       "    </tr>\n",
       "    <tr>\n",
       "      <th>2</th>\n",
       "      <td>3</td>\n",
       "      <td>100</td>\n",
       "      <td>35233</td>\n",
       "      <td>201612</td>\n",
       "      <td>1</td>\n",
       "      <td>0</td>\n",
       "      <td>0</td>\n",
       "      <td>0</td>\n",
       "      <td>0</td>\n",
       "      <td>1.002</td>\n",
       "      <td>13</td>\n",
       "      <td>BIRMINGHAM (ANN AND TUSC)</td>\n",
       "      <td>0.000000</td>\n",
       "      <td>1</td>\n",
       "      <td>144</td>\n",
       "      <td>86</td>\n",
       "    </tr>\n",
       "    <tr>\n",
       "      <th>3</th>\n",
       "      <td>4</td>\n",
       "      <td>1000</td>\n",
       "      <td>91204</td>\n",
       "      <td>201601</td>\n",
       "      <td>41</td>\n",
       "      <td>11</td>\n",
       "      <td>1</td>\n",
       "      <td>4</td>\n",
       "      <td>6</td>\n",
       "      <td>1.011</td>\n",
       "      <td>40</td>\n",
       "      <td>LOS ANGELES</td>\n",
       "      <td>0.268293</td>\n",
       "      <td>4</td>\n",
       "      <td>427</td>\n",
       "      <td>150</td>\n",
       "    </tr>\n",
       "    <tr>\n",
       "      <th>4</th>\n",
       "      <td>5</td>\n",
       "      <td>1000</td>\n",
       "      <td>91204</td>\n",
       "      <td>201602</td>\n",
       "      <td>34</td>\n",
       "      <td>14</td>\n",
       "      <td>1</td>\n",
       "      <td>8</td>\n",
       "      <td>5</td>\n",
       "      <td>0.923</td>\n",
       "      <td>40</td>\n",
       "      <td>LOS ANGELES</td>\n",
       "      <td>0.411765</td>\n",
       "      <td>4</td>\n",
       "      <td>350</td>\n",
       "      <td>151</td>\n",
       "    </tr>\n",
       "  </tbody>\n",
       "</table>\n",
       "</div>"
      ],
      "text/plain": [
       "   Unnamed: 0  lead_cdd_id    zip  lead_yearmonth  total_leads  total_sales  \\\n",
       "0           1          100  35233          201609            1            0   \n",
       "1           2          100  35233          201611            3            0   \n",
       "2           3          100  35233          201612            1            0   \n",
       "3           4         1000  91204          201601           41           11   \n",
       "4           5         1000  91204          201602           34           14   \n",
       "\n",
       "   code_1_sales  code_2_sales  code_3_sales  seasonality_index  \\\n",
       "0             0             0             0              0.964   \n",
       "1             0             0             0              0.896   \n",
       "2             0             0             0              1.002   \n",
       "3             1             4             6              1.011   \n",
       "4             1             8             5              0.923   \n",
       "\n",
       "   forecast_leads                   dma_name  close_rate  dma_size  new_inv  \\\n",
       "0              13  BIRMINGHAM (ANN AND TUSC)    0.000000         1      139   \n",
       "1              13  BIRMINGHAM (ANN AND TUSC)    0.000000         1      127   \n",
       "2              13  BIRMINGHAM (ANN AND TUSC)    0.000000         1      144   \n",
       "3              40                LOS ANGELES    0.268293         4      427   \n",
       "4              40                LOS ANGELES    0.411765         4      350   \n",
       "\n",
       "   used_inv  \n",
       "0        89  \n",
       "1        98  \n",
       "2        86  \n",
       "3       150  \n",
       "4       151  "
      ]
     },
     "execution_count": 6,
     "metadata": {},
     "output_type": "execute_result"
    }
   ],
   "source": [
    "df = pd.read_csv(\"/Users/ggiorcelli/desktop/data_for_model/us_dealer_data2.csv\", sep=\",\")\n",
    "df.head()"
   ]
  },
  {
   "cell_type": "code",
   "execution_count": 5,
   "metadata": {
    "collapsed": false,
    "deletable": true,
    "editable": true
   },
   "outputs": [
    {
     "data": {
      "text/plain": [
       "pandas.core.frame.DataFrame"
      ]
     },
     "execution_count": 5,
     "metadata": {},
     "output_type": "execute_result"
    }
   ],
   "source": [
    "type(df)"
   ]
  },
  {
   "cell_type": "code",
   "execution_count": 7,
   "metadata": {
    "collapsed": false,
    "deletable": true,
    "editable": true
   },
   "outputs": [
    {
     "data": {
      "text/html": [
       "<div>\n",
       "<table border=\"1\" class=\"dataframe\">\n",
       "  <thead>\n",
       "    <tr style=\"text-align: right;\">\n",
       "      <th></th>\n",
       "      <th>lead_cdd_id</th>\n",
       "      <th>zip</th>\n",
       "      <th>lead_yearmonth</th>\n",
       "      <th>total_leads</th>\n",
       "      <th>total_sales</th>\n",
       "      <th>code_1_sales</th>\n",
       "      <th>code_2_sales</th>\n",
       "      <th>code_3_sales</th>\n",
       "      <th>seasonality_index</th>\n",
       "      <th>forecast_leads</th>\n",
       "      <th>dma_name</th>\n",
       "      <th>close_rate</th>\n",
       "      <th>dma_size</th>\n",
       "      <th>new_inv</th>\n",
       "      <th>used_inv</th>\n",
       "    </tr>\n",
       "  </thead>\n",
       "  <tbody>\n",
       "    <tr>\n",
       "      <th>0</th>\n",
       "      <td>100</td>\n",
       "      <td>35233</td>\n",
       "      <td>201609</td>\n",
       "      <td>1</td>\n",
       "      <td>0</td>\n",
       "      <td>0</td>\n",
       "      <td>0</td>\n",
       "      <td>0</td>\n",
       "      <td>0.964</td>\n",
       "      <td>13</td>\n",
       "      <td>BIRMINGHAM (ANN AND TUSC)</td>\n",
       "      <td>0.000000</td>\n",
       "      <td>1</td>\n",
       "      <td>139</td>\n",
       "      <td>89</td>\n",
       "    </tr>\n",
       "    <tr>\n",
       "      <th>1</th>\n",
       "      <td>100</td>\n",
       "      <td>35233</td>\n",
       "      <td>201611</td>\n",
       "      <td>3</td>\n",
       "      <td>0</td>\n",
       "      <td>0</td>\n",
       "      <td>0</td>\n",
       "      <td>0</td>\n",
       "      <td>0.896</td>\n",
       "      <td>13</td>\n",
       "      <td>BIRMINGHAM (ANN AND TUSC)</td>\n",
       "      <td>0.000000</td>\n",
       "      <td>1</td>\n",
       "      <td>127</td>\n",
       "      <td>98</td>\n",
       "    </tr>\n",
       "    <tr>\n",
       "      <th>2</th>\n",
       "      <td>100</td>\n",
       "      <td>35233</td>\n",
       "      <td>201612</td>\n",
       "      <td>1</td>\n",
       "      <td>0</td>\n",
       "      <td>0</td>\n",
       "      <td>0</td>\n",
       "      <td>0</td>\n",
       "      <td>1.002</td>\n",
       "      <td>13</td>\n",
       "      <td>BIRMINGHAM (ANN AND TUSC)</td>\n",
       "      <td>0.000000</td>\n",
       "      <td>1</td>\n",
       "      <td>144</td>\n",
       "      <td>86</td>\n",
       "    </tr>\n",
       "    <tr>\n",
       "      <th>3</th>\n",
       "      <td>1000</td>\n",
       "      <td>91204</td>\n",
       "      <td>201601</td>\n",
       "      <td>41</td>\n",
       "      <td>11</td>\n",
       "      <td>1</td>\n",
       "      <td>4</td>\n",
       "      <td>6</td>\n",
       "      <td>1.011</td>\n",
       "      <td>40</td>\n",
       "      <td>LOS ANGELES</td>\n",
       "      <td>0.268293</td>\n",
       "      <td>4</td>\n",
       "      <td>427</td>\n",
       "      <td>150</td>\n",
       "    </tr>\n",
       "    <tr>\n",
       "      <th>4</th>\n",
       "      <td>1000</td>\n",
       "      <td>91204</td>\n",
       "      <td>201602</td>\n",
       "      <td>34</td>\n",
       "      <td>14</td>\n",
       "      <td>1</td>\n",
       "      <td>8</td>\n",
       "      <td>5</td>\n",
       "      <td>0.923</td>\n",
       "      <td>40</td>\n",
       "      <td>LOS ANGELES</td>\n",
       "      <td>0.411765</td>\n",
       "      <td>4</td>\n",
       "      <td>350</td>\n",
       "      <td>151</td>\n",
       "    </tr>\n",
       "  </tbody>\n",
       "</table>\n",
       "</div>"
      ],
      "text/plain": [
       "   lead_cdd_id    zip  lead_yearmonth  total_leads  total_sales  code_1_sales  \\\n",
       "0          100  35233          201609            1            0             0   \n",
       "1          100  35233          201611            3            0             0   \n",
       "2          100  35233          201612            1            0             0   \n",
       "3         1000  91204          201601           41           11             1   \n",
       "4         1000  91204          201602           34           14             1   \n",
       "\n",
       "   code_2_sales  code_3_sales  seasonality_index  forecast_leads  \\\n",
       "0             0             0              0.964              13   \n",
       "1             0             0              0.896              13   \n",
       "2             0             0              1.002              13   \n",
       "3             4             6              1.011              40   \n",
       "4             8             5              0.923              40   \n",
       "\n",
       "                    dma_name  close_rate  dma_size  new_inv  used_inv  \n",
       "0  BIRMINGHAM (ANN AND TUSC)    0.000000         1      139        89  \n",
       "1  BIRMINGHAM (ANN AND TUSC)    0.000000         1      127        98  \n",
       "2  BIRMINGHAM (ANN AND TUSC)    0.000000         1      144        86  \n",
       "3                LOS ANGELES    0.268293         4      427       150  \n",
       "4                LOS ANGELES    0.411765         4      350       151  "
      ]
     },
     "execution_count": 7,
     "metadata": {},
     "output_type": "execute_result"
    }
   ],
   "source": [
    "df.drop(df.columns[0],axis=1,inplace=True)\n",
    "df.head()"
   ]
  },
  {
   "cell_type": "code",
   "execution_count": 8,
   "metadata": {
    "collapsed": false,
    "deletable": true,
    "editable": true
   },
   "outputs": [
    {
     "data": {
      "text/html": [
       "<div>\n",
       "<table border=\"1\" class=\"dataframe\">\n",
       "  <thead>\n",
       "    <tr style=\"text-align: right;\">\n",
       "      <th></th>\n",
       "      <th>lead_cdd_id</th>\n",
       "      <th>total_leads</th>\n",
       "      <th>total_sales</th>\n",
       "      <th>seasonality_index</th>\n",
       "      <th>forecast_leads</th>\n",
       "      <th>dma_size</th>\n",
       "      <th>new_inv</th>\n",
       "      <th>used_inv</th>\n",
       "    </tr>\n",
       "  </thead>\n",
       "  <tbody>\n",
       "    <tr>\n",
       "      <th>0</th>\n",
       "      <td>100</td>\n",
       "      <td>1</td>\n",
       "      <td>0</td>\n",
       "      <td>0.964</td>\n",
       "      <td>13</td>\n",
       "      <td>1</td>\n",
       "      <td>139</td>\n",
       "      <td>89</td>\n",
       "    </tr>\n",
       "    <tr>\n",
       "      <th>1</th>\n",
       "      <td>100</td>\n",
       "      <td>3</td>\n",
       "      <td>0</td>\n",
       "      <td>0.896</td>\n",
       "      <td>13</td>\n",
       "      <td>1</td>\n",
       "      <td>127</td>\n",
       "      <td>98</td>\n",
       "    </tr>\n",
       "    <tr>\n",
       "      <th>2</th>\n",
       "      <td>100</td>\n",
       "      <td>1</td>\n",
       "      <td>0</td>\n",
       "      <td>1.002</td>\n",
       "      <td>13</td>\n",
       "      <td>1</td>\n",
       "      <td>144</td>\n",
       "      <td>86</td>\n",
       "    </tr>\n",
       "    <tr>\n",
       "      <th>3</th>\n",
       "      <td>1000</td>\n",
       "      <td>41</td>\n",
       "      <td>11</td>\n",
       "      <td>1.011</td>\n",
       "      <td>40</td>\n",
       "      <td>4</td>\n",
       "      <td>427</td>\n",
       "      <td>150</td>\n",
       "    </tr>\n",
       "    <tr>\n",
       "      <th>4</th>\n",
       "      <td>1000</td>\n",
       "      <td>34</td>\n",
       "      <td>14</td>\n",
       "      <td>0.923</td>\n",
       "      <td>40</td>\n",
       "      <td>4</td>\n",
       "      <td>350</td>\n",
       "      <td>151</td>\n",
       "    </tr>\n",
       "  </tbody>\n",
       "</table>\n",
       "</div>"
      ],
      "text/plain": [
       "   lead_cdd_id  total_leads  total_sales  seasonality_index  forecast_leads  \\\n",
       "0          100            1            0              0.964              13   \n",
       "1          100            3            0              0.896              13   \n",
       "2          100            1            0              1.002              13   \n",
       "3         1000           41           11              1.011              40   \n",
       "4         1000           34           14              0.923              40   \n",
       "\n",
       "   dma_size  new_inv  used_inv  \n",
       "0         1      139        89  \n",
       "1         1      127        98  \n",
       "2         1      144        86  \n",
       "3         4      427       150  \n",
       "4         4      350       151  "
      ]
     },
     "execution_count": 8,
     "metadata": {},
     "output_type": "execute_result"
    }
   ],
   "source": [
    "train = df\n",
    "train.head()\n",
    "\n",
    "cols = [1,2,5,6,7,10]\n",
    "train.drop(df.columns[cols],axis=1,inplace=True)\n",
    "train.drop('close_rate',axis=1,inplace=True)\n",
    "train.head()"
   ]
  },
  {
   "cell_type": "code",
   "execution_count": 9,
   "metadata": {
    "collapsed": false,
    "deletable": true,
    "editable": true
   },
   "outputs": [],
   "source": [
    "#target = 'total_sales'\n",
    "#IDcol = 'lead_cdd_id'"
   ]
  },
  {
   "cell_type": "code",
   "execution_count": null,
   "metadata": {
    "collapsed": true,
    "deletable": true,
    "editable": true
   },
   "outputs": [],
   "source": [
    "##Don't run this\n",
    "#from sklearn.model_selection import train_test_split\n",
    "#train, test = train_test_split(df, test_size = 0.2)"
   ]
  },
  {
   "cell_type": "code",
   "execution_count": 10,
   "metadata": {
    "collapsed": true,
    "deletable": true,
    "editable": true
   },
   "outputs": [],
   "source": [
    "##Function below splits data into train, test and validate\n",
    "##Maybe I'll never use it\n",
    "\n",
    "def train_validate_test_split(df, train_percent=.7, validate_percent=.2, seed=None):\n",
    "    np.random.seed(seed)\n",
    "    perm = np.random.permutation(df.index)\n",
    "    m = len(df)\n",
    "    train_end = int(train_percent * m)\n",
    "    validate_end = int(validate_percent * m) + train_end\n",
    "    train = df.ix[perm[:train_end]]\n",
    "    validate = df.ix[perm[train_end:validate_end]]\n",
    "    test = df.ix[perm[validate_end:]]\n",
    "    return train, validate, test\n",
    "  \n",
    "train, validate, test = train_validate_test_split(df)"
   ]
  },
  {
   "cell_type": "code",
   "execution_count": 10,
   "metadata": {
    "collapsed": false,
    "deletable": true,
    "editable": true
   },
   "outputs": [
    {
     "data": {
      "text/plain": [
       "(52428, 8)"
      ]
     },
     "execution_count": 10,
     "metadata": {},
     "output_type": "execute_result"
    }
   ],
   "source": [
    "train.head()\n",
    "train.shape()"
   ]
  },
  {
   "cell_type": "code",
   "execution_count": 11,
   "metadata": {
    "collapsed": false,
    "deletable": true,
    "editable": true
   },
   "outputs": [],
   "source": [
    "##Building modelfit function\n",
    "##This function builds XGboost models and performs 5-fold CVs\n",
    "##Early stopping set to 25 rounds\n",
    "##metrics='auc', eval_metric\n",
    "\n",
    "def apply_xgboost(alg, dtrain, predictors,useTrainCV=True, cv_folds=5, early_stopping_rounds=25):\n",
    "    \n",
    "    if useTrainCV:\n",
    "        xgb_param = alg.get_xgb_params()\n",
    "        xgtrain = xgb.DMatrix(dtrain[predictors].values, label=dtrain[target].values)\n",
    "        cvresult = xgb.cv(xgb_param, xgtrain, num_boost_round=alg.get_params()['n_estimators'], nfold=cv_folds,\n",
    "                          early_stopping_rounds=early_stopping_rounds)\n",
    "        alg.set_params(n_estimators=cvresult.shape[0])\n",
    "    \n",
    "    #Fit the algorithm on the data\n",
    "    alg.fit(dtrain[predictors], dtrain['total_sales'])\n",
    "        \n",
    "    #Predict training set:\n",
    "    dtrain_predictions = alg.predict(dtrain[predictors])\n",
    "    #dtrain_predprob = alg.predict_proba(dtrain[predictors])[:,1]\n",
    "        \n",
    "    #Print model report:\n",
    "    print(\"\\nModel Report\")\n",
    "    #print(\"Explained Variance Score : %.4g\" % metrics.explained_variance_score(dtrain['total_sales'].values, dtrain_predictions))\n",
    "    print(\"R^2 Score : %.4g\" % metrics.r2_score(dtrain['total_sales'].values, dtrain_predictions))\n",
    "    print(\"Mean Square Error : %.4g\" % metrics.mean_squared_error(dtrain['total_sales'].values, dtrain_predictions))\n",
    "    print(\"Median Absolute Error : %.4g\" % metrics.median_absolute_error(dtrain['total_sales'].values, dtrain_predictions))\n",
    "    print(\"Mean Absolute Error : %.4g\" % metrics.mean_absolute_error(dtrain['total_sales'].values, dtrain_predictions))\n",
    "    \n",
    "    \n",
    "    #print(\"AUC Score (Train): %f\" % metrics.roc_auc_score(dtrain['total_sales'], dtrain_predprob))\n",
    "                    \n",
    "    feat_imp = pd.Series(alg.booster().get_fscore()).sort_values(ascending=False)\n",
    "    feat_imp.plot(kind='bar', title='Feature Importances')\n",
    "    plt.ylabel('Feature Importance Score')"
   ]
  },
  {
   "cell_type": "code",
   "execution_count": 24,
   "metadata": {
    "collapsed": false,
    "deletable": true,
    "editable": true,
    "scrolled": true
   },
   "outputs": [
    {
     "data": {
      "text/plain": [
       "<function __main__.modelfit>"
      ]
     },
     "execution_count": 24,
     "metadata": {},
     "output_type": "execute_result"
    }
   ],
   "source": [
    "apply_xgboost"
   ]
  },
  {
   "cell_type": "code",
   "execution_count": 12,
   "metadata": {
    "collapsed": false,
    "deletable": true,
    "editable": true,
    "scrolled": true
   },
   "outputs": [
    {
     "data": {
      "text/plain": [
       "['total_leads',\n",
       " 'seasonality_index',\n",
       " 'forecast_leads',\n",
       " 'dma_size',\n",
       " 'new_inv',\n",
       " 'used_inv']"
      ]
     },
     "execution_count": 12,
     "metadata": {},
     "output_type": "execute_result"
    }
   ],
   "source": [
    "#Choose all predictors except target & IDcols\n",
    "predictors = [x for x in train.columns if x not in [target, IDcol]]\n",
    "\n",
    "#Build model\n",
    "xgb1 = XGBRegressor(\n",
    " learning_rate =0.1,\n",
    " n_estimators=1000,\n",
    " max_depth=5,\n",
    " min_child_weight=1,\n",
    " gamma=0,\n",
    " subsample=0.8,\n",
    " colsample_bytree=0.8,\n",
    " objective= 'reg:linear',\n",
    " nthread=4,\n",
    " scale_pos_weight=1,\n",
    " silent=False,   \n",
    " seed=27)\n",
    "\n",
    "predictors"
   ]
  },
  {
   "cell_type": "code",
   "execution_count": null,
   "metadata": {
    "collapsed": true,
    "deletable": true,
    "editable": true
   },
   "outputs": [],
   "source": [
    "######Begin step-by-step section\n",
    "##For my own sake, I'm running every step in the function by itself\n",
    "##This section can be skipped if you are using the modelfit function"
   ]
  },
  {
   "cell_type": "code",
   "execution_count": 13,
   "metadata": {
    "collapsed": false,
    "deletable": true,
    "editable": true
   },
   "outputs": [
    {
     "data": {
      "text/plain": [
       "{'base_score': 0.5,\n",
       " 'colsample_bylevel': 1,\n",
       " 'colsample_bytree': 0.8,\n",
       " 'gamma': 0,\n",
       " 'learning_rate': 0.1,\n",
       " 'max_delta_step': 0,\n",
       " 'max_depth': 5,\n",
       " 'min_child_weight': 1,\n",
       " 'missing': None,\n",
       " 'n_estimators': 1000,\n",
       " 'nthread': 4,\n",
       " 'objective': 'reg:linear',\n",
       " 'reg_alpha': 0,\n",
       " 'reg_lambda': 1,\n",
       " 'scale_pos_weight': 1,\n",
       " 'seed': 27,\n",
       " 'silent': 0,\n",
       " 'subsample': 0.8}"
      ]
     },
     "execution_count": 13,
     "metadata": {},
     "output_type": "execute_result"
    }
   ],
   "source": [
    "xgb_param = xgb1.get_xgb_params()\n",
    "xgb_param"
   ]
  },
  {
   "cell_type": "code",
   "execution_count": 84,
   "metadata": {
    "collapsed": false,
    "deletable": true,
    "editable": true
   },
   "outputs": [
    {
     "data": {
      "text/plain": [
       "<xgboost.core.DMatrix at 0x10660f1d0>"
      ]
     },
     "execution_count": 84,
     "metadata": {},
     "output_type": "execute_result"
    }
   ],
   "source": [
    "xgtrain = xgb.DMatrix(train[predictors].values, label=train[target].values)\n",
    "xgtrain"
   ]
  },
  {
   "cell_type": "code",
   "execution_count": 86,
   "metadata": {
    "collapsed": false,
    "deletable": true,
    "editable": true
   },
   "outputs": [],
   "source": [
    "cvresult = xgb.cv(xgb_param, xgtrain, \n",
    "           num_boost_round=xgb1.get_params()['n_estimators'],\n",
    "           nfold=5, early_stopping_rounds=25)\n",
    "cvresult"
   ]
  },
  {
   "cell_type": "code",
   "execution_count": 87,
   "metadata": {
    "collapsed": false,
    "deletable": true,
    "editable": true,
    "scrolled": true
   },
   "outputs": [
    {
     "data": {
      "text/plain": [
       "XGBRegressor(base_score=0.5, colsample_bylevel=1, colsample_bytree=0.8,\n",
       "       gamma=0, learning_rate=0.1, max_delta_step=0, max_depth=5,\n",
       "       min_child_weight=1, missing=None, n_estimators=1000, nthread=4,\n",
       "       objective='reg:linear', reg_alpha=0, reg_lambda=1,\n",
       "       scale_pos_weight=1, seed=27, silent=True, subsample=0.8)"
      ]
     },
     "execution_count": 87,
     "metadata": {},
     "output_type": "execute_result"
    }
   ],
   "source": [
    "xgb1.set_params(n_estimators=cvresult.shape[0])"
   ]
  },
  {
   "cell_type": "code",
   "execution_count": 90,
   "metadata": {
    "collapsed": false,
    "deletable": true,
    "editable": true
   },
   "outputs": [
    {
     "data": {
      "text/plain": [
       "XGBRegressor(base_score=0.5, colsample_bylevel=1, colsample_bytree=0.8,\n",
       "       gamma=0, learning_rate=0.1, max_delta_step=0, max_depth=5,\n",
       "       min_child_weight=1, missing=None, n_estimators=1000, nthread=4,\n",
       "       objective='reg:linear', reg_alpha=0, reg_lambda=1,\n",
       "       scale_pos_weight=1, seed=27, silent=True, subsample=0.8)"
      ]
     },
     "execution_count": 90,
     "metadata": {},
     "output_type": "execute_result"
    }
   ],
   "source": [
    "xgb1.fit(train[predictors], train['total_sales'])\n",
    "predictions = xgb1.predict(train)"
   ]
  },
  {
   "cell_type": "code",
   "execution_count": null,
   "metadata": {
    "collapsed": true,
    "deletable": true,
    "editable": true
   },
   "outputs": [],
   "source": [
    "#######End step-by-step section\n",
    "## Everything looks good"
   ]
  },
  {
   "cell_type": "code",
   "execution_count": 14,
   "metadata": {
    "collapsed": false,
    "deletable": true,
    "editable": true
   },
   "outputs": [
    {
     "name": "stdout",
     "output_type": "stream",
     "text": [
      "\n",
      "Model Report\n",
      "R^2 Score : 0.9561\n",
      "Mean Square Error : 7.058\n",
      "Median Absolute Error : 1.09\n",
      "Mean Absolute Error : 1.784\n"
     ]
    },
    {
     "data": {
      "image/png": "[encoded data removed]",
      "text/plain": [
       "<matplotlib.figure.Figure at 0x10d29cf28>"
      ]
     },
     "metadata": {},
     "output_type": "display_data"
    }
   ],
   "source": [
    "##Running model\n",
    "#This function outputs a complete model report and feature importances\n",
    "apply_xgboost(xgb1, train, predictors)"
   ]
  },
  {
   "cell_type": "code",
   "execution_count": 17,
   "metadata": {
    "collapsed": false,
    "deletable": true,
    "editable": true
   },
   "outputs": [],
   "source": [
    "####Beginning paramenter tuning\n",
    "##In this section I'll tune max_dept and min_child_weight\n",
    "\n",
    "param_test1 = {\n",
    " 'max_depth': [3,5,7,10],\n",
    " 'min_child_weight': [1,3,5]\n",
    "}\n",
    "\n",
    "gsearch1 = GridSearchCV(estimator = XGBRegressor( learning_rate =0.1, n_estimators=140, max_depth=5,\n",
    " min_child_weight=1, gamma=0, subsample=0.8, colsample_bytree=0.8,\n",
    " objective= 'reg:linear', nthread=4, scale_pos_weight=1, seed=27), \n",
    " param_grid = param_test1 , scoring='neg_mean_squared_error',n_jobs=4, iid=False, cv=5)"
   ]
  },
  {
   "cell_type": "code",
   "execution_count": 18,
   "metadata": {
    "collapsed": false,
    "deletable": true,
    "editable": true
   },
   "outputs": [
    {
     "data": {
      "text/plain": [
       "GridSearchCV(cv=5, error_score='raise',\n",
       "       estimator=XGBRegressor(base_score=0.5, colsample_bylevel=1, colsample_bytree=0.8,\n",
       "       gamma=0, learning_rate=0.1, max_delta_step=0, max_depth=5,\n",
       "       min_child_weight=1, missing=None, n_estimators=140, nthread=4,\n",
       "       objective='reg:linear', reg_alpha=0, reg_lambda=1,\n",
       "       scale_pos_weight=1, seed=27, silent=True, subsample=0.8),\n",
       "       fit_params={}, iid=False, n_jobs=4,\n",
       "       param_grid={'max_depth': [3, 5, 7, 10], 'min_child_weight': [1, 3, 5]},\n",
       "       pre_dispatch='2*n_jobs', refit=True,\n",
       "       scoring='neg_mean_squared_error', verbose=0)"
      ]
     },
     "execution_count": 18,
     "metadata": {},
     "output_type": "execute_result"
    }
   ],
   "source": [
    "gsearch1.fit(train[predictors],train[target])"
   ]
  },
  {
   "cell_type": "code",
   "execution_count": 141,
   "metadata": {
    "collapsed": false,
    "deletable": true,
    "editable": true
   },
   "outputs": [
    {
     "data": {
      "text/plain": [
       "([mean: -1.26080, std: 0.02856, params: {'max_depth': 3, 'min_child_weight': 1},\n",
       "  mean: -1.26183, std: 0.03049, params: {'max_depth': 3, 'min_child_weight': 6},\n",
       "  mean: -1.26013, std: 0.03230, params: {'max_depth': 3, 'min_child_weight': 2},\n",
       "  mean: -1.21502, std: 0.02155, params: {'max_depth': 10, 'min_child_weight': 1},\n",
       "  mean: -1.20877, std: 0.02260, params: {'max_depth': 10, 'min_child_weight': 6},\n",
       "  mean: -1.21997, std: 0.02078, params: {'max_depth': 10, 'min_child_weight': 2},\n",
       "  mean: -1.28818, std: 0.02826, params: {'max_depth': 2, 'min_child_weight': 1},\n",
       "  mean: -1.29063, std: 0.03368, params: {'max_depth': 2, 'min_child_weight': 6},\n",
       "  mean: -1.28831, std: 0.03846, params: {'max_depth': 2, 'min_child_weight': 2}],\n",
       " {'max_depth': 10, 'min_child_weight': 6},\n",
       " -1.2087743639945985)"
      ]
     },
     "execution_count": 141,
     "metadata": {},
     "output_type": "execute_result"
    }
   ],
   "source": [
    "gsearch1.grid_scores_, gsearch1.best_params_, gsearch1.best_score_"
   ]
  },
  {
   "cell_type": "code",
   "execution_count": 34,
   "metadata": {
    "collapsed": false,
    "deletable": true,
    "editable": true
   },
   "outputs": [],
   "source": [
    "#Iteration 2\n",
    "param_test2 = {\n",
    " 'max_depth': [7,8,9],\n",
    " 'min_child_weight': [4,5,6]\n",
    "}\n",
    "\n",
    "gsearch2 = GridSearchCV(estimator = XGBRegressor( learning_rate =0.1, n_estimators=140, max_depth=5,\n",
    " min_child_weight=1, gamma=0, subsample=0.8, colsample_bytree=0.8,\n",
    " objective= 'reg:linear', nthread=4, scale_pos_weight=1, seed=27), \n",
    " param_grid = param_test2 , scoring='neg_median_absolute_error',n_jobs=4, iid=False, cv=5)"
   ]
  },
  {
   "cell_type": "code",
   "execution_count": 35,
   "metadata": {
    "collapsed": false,
    "deletable": true,
    "editable": true
   },
   "outputs": [
    {
     "data": {
      "text/plain": [
       "GridSearchCV(cv=5, error_score='raise',\n",
       "       estimator=XGBRegressor(base_score=0.5, colsample_bylevel=1, colsample_bytree=0.8,\n",
       "       gamma=0, learning_rate=0.1, max_delta_step=0, max_depth=5,\n",
       "       min_child_weight=1, missing=None, n_estimators=140, nthread=4,\n",
       "       objective='reg:linear', reg_alpha=0, reg_lambda=1,\n",
       "       scale_pos_weight=1, seed=27, silent=True, subsample=0.8),\n",
       "       fit_params={}, iid=False, n_jobs=4,\n",
       "       param_grid={'max_depth': [7, 8, 9], 'min_child_weight': [4, 5, 6]},\n",
       "       pre_dispatch='2*n_jobs', refit=True,\n",
       "       scoring='neg_median_absolute_error', verbose=0)"
      ]
     },
     "execution_count": 35,
     "metadata": {},
     "output_type": "execute_result"
    }
   ],
   "source": [
    "gsearch2.fit(train[predictors],train[target])"
   ]
  },
  {
   "cell_type": "code",
   "execution_count": 36,
   "metadata": {
    "collapsed": false,
    "deletable": true,
    "editable": true
   },
   "outputs": [
    {
     "data": {
      "text/plain": [
       "([mean: -1.19754, std: 0.02809, params: {'max_depth': 7, 'min_child_weight': 4},\n",
       "  mean: -1.19576, std: 0.02757, params: {'max_depth': 7, 'min_child_weight': 5},\n",
       "  mean: -1.19667, std: 0.02745, params: {'max_depth': 7, 'min_child_weight': 6},\n",
       "  mean: -1.19878, std: 0.03341, params: {'max_depth': 8, 'min_child_weight': 4},\n",
       "  mean: -1.19466, std: 0.03048, params: {'max_depth': 8, 'min_child_weight': 5},\n",
       "  mean: -1.19595, std: 0.03025, params: {'max_depth': 8, 'min_child_weight': 6},\n",
       "  mean: -1.21366, std: 0.03470, params: {'max_depth': 9, 'min_child_weight': 4},\n",
       "  mean: -1.20906, std: 0.03559, params: {'max_depth': 9, 'min_child_weight': 5},\n",
       "  mean: -1.21111, std: 0.03036, params: {'max_depth': 9, 'min_child_weight': 6}],\n",
       " {'max_depth': 8, 'min_child_weight': 5},\n",
       " -1.194655442237854)"
      ]
     },
     "execution_count": 36,
     "metadata": {},
     "output_type": "execute_result"
    }
   ],
   "source": [
    "gsearch2.grid_scores_, gsearch2.best_params_, gsearch2.best_score_"
   ]
  },
  {
   "cell_type": "code",
   "execution_count": null,
   "metadata": {
    "collapsed": true,
    "deletable": true,
    "editable": true
   },
   "outputs": [],
   "source": [
    "##Max_depth optimal value = 8\n",
    "##Min_child_weight optimal value = 5\n",
    "#### Min_child_weight an max_depth have been tuned"
   ]
  },
  {
   "cell_type": "code",
   "execution_count": 40,
   "metadata": {
    "collapsed": true,
    "deletable": true,
    "editable": true
   },
   "outputs": [],
   "source": [
    "##Tuning gamma\n",
    "param_test3 = {\n",
    "    'gamma' : [i/10.0 for i in range(0,7)]\n",
    "}\n",
    "\n",
    "gsearch3 = GridSearchCV(estimator = XGBRegressor( learning_rate =0.1, n_estimators=140, max_depth=8,\n",
    " min_child_weight=5, gamma=0, subsample=0.8, colsample_bytree=0.8,\n",
    " objective= 'reg:linear', nthread=4, scale_pos_weight=1, seed=27), \n",
    " param_grid = param_test3 , scoring='neg_median_absolute_error',n_jobs=4, iid=False, cv=5)"
   ]
  },
  {
   "cell_type": "code",
   "execution_count": 41,
   "metadata": {
    "collapsed": false,
    "deletable": true,
    "editable": true
   },
   "outputs": [
    {
     "data": {
      "text/plain": [
       "GridSearchCV(cv=5, error_score='raise',\n",
       "       estimator=XGBRegressor(base_score=0.5, colsample_bylevel=1, colsample_bytree=0.8,\n",
       "       gamma=0, learning_rate=0.1, max_delta_step=0, max_depth=8,\n",
       "       min_child_weight=5, missing=None, n_estimators=140, nthread=4,\n",
       "       objective='reg:linear', reg_alpha=0, reg_lambda=1,\n",
       "       scale_pos_weight=1, seed=27, silent=True, subsample=0.8),\n",
       "       fit_params={}, iid=False, n_jobs=4,\n",
       "       param_grid={'gamma': [0.0, 0.1, 0.2, 0.3, 0.4, 0.5, 0.6]},\n",
       "       pre_dispatch='2*n_jobs', refit=True,\n",
       "       scoring='neg_median_absolute_error', verbose=0)"
      ]
     },
     "execution_count": 41,
     "metadata": {},
     "output_type": "execute_result"
    }
   ],
   "source": [
    "gsearch3.fit(train[predictors],train[target])"
   ]
  },
  {
   "cell_type": "code",
   "execution_count": 42,
   "metadata": {
    "collapsed": false,
    "deletable": true,
    "editable": true
   },
   "outputs": [
    {
     "data": {
      "text/plain": [
       "([mean: -1.19466, std: 0.03048, params: {'gamma': 0.0},\n",
       "  mean: -1.20012, std: 0.02864, params: {'gamma': 0.1},\n",
       "  mean: -1.20014, std: 0.03074, params: {'gamma': 0.2},\n",
       "  mean: -1.19972, std: 0.03495, params: {'gamma': 0.3},\n",
       "  mean: -1.20232, std: 0.03017, params: {'gamma': 0.4},\n",
       "  mean: -1.19661, std: 0.02894, params: {'gamma': 0.5},\n",
       "  mean: -1.19809, std: 0.03288, params: {'gamma': 0.6}],\n",
       " {'gamma': 0.0},\n",
       " -1.194655442237854)"
      ]
     },
     "execution_count": 42,
     "metadata": {},
     "output_type": "execute_result"
    }
   ],
   "source": [
    "gsearch3.grid_scores_, gsearch3.best_params_, gsearch3.best_score_"
   ]
  },
  {
   "cell_type": "code",
   "execution_count": 45,
   "metadata": {
    "collapsed": true,
    "deletable": true,
    "editable": true
   },
   "outputs": [],
   "source": [
    "#Inserting newly tuned parameters in the model\n",
    "xgb2 = XGBRegressor(\n",
    " learning_rate =0.1,\n",
    " n_estimators=1000,\n",
    " max_depth=8,\n",
    " min_child_weight=5,\n",
    " gamma=0,\n",
    " subsample=0.8,\n",
    " colsample_bytree=0.8,\n",
    " objective= 'reg:linear',\n",
    " nthread=4,\n",
    " scale_pos_weight=1,\n",
    " silent=False,   \n",
    " seed=27)\n"
   ]
  },
  {
   "cell_type": "code",
   "execution_count": 46,
   "metadata": {
    "collapsed": false,
    "deletable": true,
    "editable": true
   },
   "outputs": [
    {
     "name": "stdout",
     "output_type": "stream",
     "text": [
      "\n",
      "Model Report\n",
      "Explained Variance Score : 0.9672\n",
      "R^2 Score : 0.9672\n",
      "Mean Square Error : 5.339\n",
      "Median Absolute Error : 1.017\n",
      "Mean Absolute Error : 1.587\n"
     ]
    },
    {
     "data": {
      "image/png": "[encoded data removed]",
      "text/plain": [
       "<matplotlib.figure.Figure at 0x1058b20f0>"
      ]
     },
     "metadata": {},
     "output_type": "display_data"
    }
   ],
   "source": [
    "###xgb1 model report\n",
    "#Explained Variance Score : 0.9592\n",
    "#R^2 Score : 0.9592\n",
    "#Mean Square Error : 6.442\n",
    "#Median Absolute Error : 1.08\n",
    "#Mean Absolute Error : 1.724\n",
    "\n",
    "apply_xgboost(xgb2, train, predictors)"
   ]
  },
  {
   "cell_type": "code",
   "execution_count": null,
   "metadata": {
    "collapsed": true,
    "deletable": true,
    "editable": true
   },
   "outputs": [],
   "source": [
    "#Good improvement, feature importances also changed"
   ]
  },
  {
   "cell_type": "code",
   "execution_count": 47,
   "metadata": {
    "collapsed": true,
    "deletable": true,
    "editable": true
   },
   "outputs": [],
   "source": [
    "##Now let's tune subsample and colsample_bytree\n",
    "param_test4 = {\n",
    "    'subsample' : [i/10.0 for i in range(6,10)],\n",
    "    'colsample_bytree': [i/10.0 for i in range(6,10)]\n",
    "}\n",
    "\n",
    "gsearch4 = GridSearchCV(estimator = XGBRegressor( learning_rate =0.1, n_estimators=140, max_depth=8,\n",
    " min_child_weight=5, gamma=0, subsample=0.8, colsample_bytree=0.8,\n",
    " objective= 'reg:linear', nthread=4, scale_pos_weight=1, seed=27), \n",
    " param_grid = param_test4 , scoring='neg_median_absolute_error',n_jobs=4, iid=False, cv=5)"
   ]
  },
  {
   "cell_type": "code",
   "execution_count": 48,
   "metadata": {
    "collapsed": false,
    "deletable": true,
    "editable": true
   },
   "outputs": [
    {
     "data": {
      "text/plain": [
       "GridSearchCV(cv=5, error_score='raise',\n",
       "       estimator=XGBRegressor(base_score=0.5, colsample_bylevel=1, colsample_bytree=0.8,\n",
       "       gamma=0, learning_rate=0.1, max_delta_step=0, max_depth=8,\n",
       "       min_child_weight=5, missing=None, n_estimators=140, nthread=4,\n",
       "       objective='reg:linear', reg_alpha=0, reg_lambda=1,\n",
       "       scale_pos_weight=1, seed=27, silent=True, subsample=0.8),\n",
       "       fit_params={}, iid=False, n_jobs=4,\n",
       "       param_grid={'subsample': [0.6, 0.7, 0.8, 0.9], 'colsample_bytree': [0.6, 0.7, 0.8, 0.9]},\n",
       "       pre_dispatch='2*n_jobs', refit=True,\n",
       "       scoring='neg_median_absolute_error', verbose=0)"
      ]
     },
     "execution_count": 48,
     "metadata": {},
     "output_type": "execute_result"
    }
   ],
   "source": [
    "gsearch4.fit(train[predictors],train[target])"
   ]
  },
  {
   "cell_type": "code",
   "execution_count": 49,
   "metadata": {
    "collapsed": false,
    "deletable": true,
    "editable": true,
    "scrolled": true
   },
   "outputs": [
    {
     "data": {
      "text/plain": [
       "([mean: -1.24597, std: 0.01351, params: {'colsample_bytree': 0.6, 'subsample': 0.6},\n",
       "  mean: -1.24821, std: 0.01701, params: {'colsample_bytree': 0.6, 'subsample': 0.7},\n",
       "  mean: -1.24533, std: 0.01791, params: {'colsample_bytree': 0.6, 'subsample': 0.8},\n",
       "  mean: -1.24209, std: 0.01395, params: {'colsample_bytree': 0.6, 'subsample': 0.9},\n",
       "  mean: -1.20824, std: 0.03620, params: {'colsample_bytree': 0.7, 'subsample': 0.6},\n",
       "  mean: -1.20238, std: 0.03433, params: {'colsample_bytree': 0.7, 'subsample': 0.7},\n",
       "  mean: -1.19466, std: 0.03048, params: {'colsample_bytree': 0.7, 'subsample': 0.8},\n",
       "  mean: -1.19784, std: 0.03125, params: {'colsample_bytree': 0.7, 'subsample': 0.9},\n",
       "  mean: -1.20824, std: 0.03620, params: {'colsample_bytree': 0.8, 'subsample': 0.6},\n",
       "  mean: -1.20238, std: 0.03433, params: {'colsample_bytree': 0.8, 'subsample': 0.7},\n",
       "  mean: -1.19466, std: 0.03048, params: {'colsample_bytree': 0.8, 'subsample': 0.8},\n",
       "  mean: -1.19784, std: 0.03125, params: {'colsample_bytree': 0.8, 'subsample': 0.9},\n",
       "  mean: -1.16407, std: 0.00985, params: {'colsample_bytree': 0.9, 'subsample': 0.6},\n",
       "  mean: -1.15800, std: 0.01330, params: {'colsample_bytree': 0.9, 'subsample': 0.7},\n",
       "  mean: -1.15904, std: 0.01816, params: {'colsample_bytree': 0.9, 'subsample': 0.8},\n",
       "  mean: -1.16087, std: 0.01892, params: {'colsample_bytree': 0.9, 'subsample': 0.9}],\n",
       " {'colsample_bytree': 0.9, 'subsample': 0.7},\n",
       " -1.158000898361206)"
      ]
     },
     "execution_count": 49,
     "metadata": {},
     "output_type": "execute_result"
    }
   ],
   "source": [
    "gsearch4.grid_scores_, gsearch4.best_params_, gsearch4.best_score_"
   ]
  },
  {
   "cell_type": "code",
   "execution_count": 115,
   "metadata": {
    "collapsed": false,
    "deletable": true,
    "editable": true
   },
   "outputs": [],
   "source": [
    "#Iteration 2\n",
    "param_test5 = {\n",
    "    'subsample' : [i/10.0 for i in range(4,10)],\n",
    "    'colsample_bytree': [i/10.0 for i in range(8,10)]\n",
    "}\n",
    "\n",
    "gsearch5 = GridSearchCV(estimator = XGBRegressor( learning_rate =0.1, n_estimators=140, max_depth=8,\n",
    " min_child_weight=5, gamma=0, subsample=0.8, colsample_bytree=0.8,\n",
    " objective= 'reg:linear', nthread=4, scale_pos_weight=1, seed=27), \n",
    " param_grid = param_test5 , scoring='neg_mean_absolute_error',n_jobs=4, iid=False, cv=5)"
   ]
  },
  {
   "cell_type": "code",
   "execution_count": null,
   "metadata": {
    "collapsed": false,
    "deletable": true,
    "editable": true
   },
   "outputs": [],
   "source": [
    "gsearch5.fit(train[predictors],train[target])"
   ]
  },
  {
   "cell_type": "code",
   "execution_count": 57,
   "metadata": {
    "collapsed": false,
    "deletable": true,
    "editable": true
   },
   "outputs": [
    {
     "data": {
      "text/plain": [
       "([mean: -1.22303, std: 0.03680, params: {'colsample_bytree': 0.8, 'subsample': 0.4},\n",
       "  mean: -1.20667, std: 0.03010, params: {'colsample_bytree': 0.8, 'subsample': 0.5},\n",
       "  mean: -1.20824, std: 0.03620, params: {'colsample_bytree': 0.8, 'subsample': 0.6},\n",
       "  mean: -1.20238, std: 0.03433, params: {'colsample_bytree': 0.8, 'subsample': 0.7},\n",
       "  mean: -1.19466, std: 0.03048, params: {'colsample_bytree': 0.8, 'subsample': 0.8},\n",
       "  mean: -1.19784, std: 0.03125, params: {'colsample_bytree': 0.8, 'subsample': 0.9},\n",
       "  mean: -1.16849, std: 0.01799, params: {'colsample_bytree': 0.9, 'subsample': 0.4},\n",
       "  mean: -1.16806, std: 0.01210, params: {'colsample_bytree': 0.9, 'subsample': 0.5},\n",
       "  mean: -1.16407, std: 0.00985, params: {'colsample_bytree': 0.9, 'subsample': 0.6},\n",
       "  mean: -1.15800, std: 0.01330, params: {'colsample_bytree': 0.9, 'subsample': 0.7},\n",
       "  mean: -1.15904, std: 0.01816, params: {'colsample_bytree': 0.9, 'subsample': 0.8},\n",
       "  mean: -1.16087, std: 0.01892, params: {'colsample_bytree': 0.9, 'subsample': 0.9}],\n",
       " {'colsample_bytree': 0.9, 'subsample': 0.7},\n",
       " -1.158000898361206)"
      ]
     },
     "execution_count": 57,
     "metadata": {},
     "output_type": "execute_result"
    }
   ],
   "source": [
    "gsearch5.grid_scores_, gsearch5.best_params_, gsearch5.best_score_"
   ]
  },
  {
   "cell_type": "code",
   "execution_count": 61,
   "metadata": {
    "collapsed": true,
    "deletable": true,
    "editable": true
   },
   "outputs": [],
   "source": [
    "#Now let's try to improve some more by looking at 0.05 intervals\n",
    "\n",
    "param_test5b = {\n",
    " 'subsample':[i/100.0 for i in range(60,95,5)],\n",
    " 'colsample_bytree':[i/100.0 for i in range(65,95,5)]\n",
    "}\n",
    "gsearch5b = GridSearchCV(estimator = XGBRegressor( learning_rate =0.1, n_estimators=140, max_depth=8,\n",
    " min_child_weight=5, gamma=0, subsample=0.7, colsample_bytree=0.9,\n",
    " objective= 'reg:linear', nthread=4, scale_pos_weight=1, seed=27), \n",
    " param_grid = param_test5b , scoring='neg_median_absolute_error',n_jobs=4, iid=False, cv=5)"
   ]
  },
  {
   "cell_type": "code",
   "execution_count": 62,
   "metadata": {
    "collapsed": false,
    "deletable": true,
    "editable": true
   },
   "outputs": [
    {
     "data": {
      "text/plain": [
       "GridSearchCV(cv=5, error_score='raise',\n",
       "       estimator=XGBRegressor(base_score=0.5, colsample_bylevel=1, colsample_bytree=0.9,\n",
       "       gamma=0, learning_rate=0.1, max_delta_step=0, max_depth=8,\n",
       "       min_child_weight=5, missing=None, n_estimators=140, nthread=4,\n",
       "       objective='reg:linear', reg_alpha=0, reg_lambda=1,\n",
       "       scale_pos_weight=1, seed=27, silent=True, subsample=0.7),\n",
       "       fit_params={}, iid=False, n_jobs=4,\n",
       "       param_grid={'subsample': [0.6, 0.65, 0.7, 0.75, 0.8, 0.85, 0.9], 'colsample_bytree': [0.65, 0.7, 0.75, 0.8, 0.85, 0.9]},\n",
       "       pre_dispatch='2*n_jobs', refit=True,\n",
       "       scoring='neg_median_absolute_error', verbose=0)"
      ]
     },
     "execution_count": 62,
     "metadata": {},
     "output_type": "execute_result"
    }
   ],
   "source": [
    "gsearch5b.fit(train[predictors],train[target])"
   ]
  },
  {
   "cell_type": "code",
   "execution_count": 63,
   "metadata": {
    "collapsed": false,
    "deletable": true,
    "editable": true
   },
   "outputs": [
    {
     "data": {
      "text/plain": [
       "([mean: -1.24597, std: 0.01351, params: {'colsample_bytree': 0.65, 'subsample': 0.6},\n",
       "  mean: -1.25196, std: 0.01643, params: {'colsample_bytree': 0.65, 'subsample': 0.65},\n",
       "  mean: -1.24821, std: 0.01701, params: {'colsample_bytree': 0.65, 'subsample': 0.7},\n",
       "  mean: -1.24704, std: 0.01860, params: {'colsample_bytree': 0.65, 'subsample': 0.75},\n",
       "  mean: -1.24533, std: 0.01791, params: {'colsample_bytree': 0.65, 'subsample': 0.8},\n",
       "  mean: -1.24148, std: 0.01442, params: {'colsample_bytree': 0.65, 'subsample': 0.85},\n",
       "  mean: -1.24209, std: 0.01395, params: {'colsample_bytree': 0.65, 'subsample': 0.9},\n",
       "  mean: -1.20824, std: 0.03620, params: {'colsample_bytree': 0.7, 'subsample': 0.6},\n",
       "  mean: -1.19872, std: 0.03093, params: {'colsample_bytree': 0.7, 'subsample': 0.65},\n",
       "  mean: -1.20238, std: 0.03433, params: {'colsample_bytree': 0.7, 'subsample': 0.7},\n",
       "  mean: -1.19832, std: 0.03422, params: {'colsample_bytree': 0.7, 'subsample': 0.75},\n",
       "  mean: -1.19466, std: 0.03048, params: {'colsample_bytree': 0.7, 'subsample': 0.8},\n",
       "  mean: -1.19849, std: 0.02932, params: {'colsample_bytree': 0.7, 'subsample': 0.85},\n",
       "  mean: -1.19784, std: 0.03125, params: {'colsample_bytree': 0.7, 'subsample': 0.9},\n",
       "  mean: -1.20824, std: 0.03620, params: {'colsample_bytree': 0.75, 'subsample': 0.6},\n",
       "  mean: -1.19872, std: 0.03093, params: {'colsample_bytree': 0.75, 'subsample': 0.65},\n",
       "  mean: -1.20238, std: 0.03433, params: {'colsample_bytree': 0.75, 'subsample': 0.7},\n",
       "  mean: -1.19832, std: 0.03422, params: {'colsample_bytree': 0.75, 'subsample': 0.75},\n",
       "  mean: -1.19466, std: 0.03048, params: {'colsample_bytree': 0.75, 'subsample': 0.8},\n",
       "  mean: -1.19849, std: 0.02932, params: {'colsample_bytree': 0.75, 'subsample': 0.85},\n",
       "  mean: -1.19784, std: 0.03125, params: {'colsample_bytree': 0.75, 'subsample': 0.9},\n",
       "  mean: -1.20824, std: 0.03620, params: {'colsample_bytree': 0.8, 'subsample': 0.6},\n",
       "  mean: -1.19872, std: 0.03093, params: {'colsample_bytree': 0.8, 'subsample': 0.65},\n",
       "  mean: -1.20238, std: 0.03433, params: {'colsample_bytree': 0.8, 'subsample': 0.7},\n",
       "  mean: -1.19832, std: 0.03422, params: {'colsample_bytree': 0.8, 'subsample': 0.75},\n",
       "  mean: -1.19466, std: 0.03048, params: {'colsample_bytree': 0.8, 'subsample': 0.8},\n",
       "  mean: -1.19849, std: 0.02932, params: {'colsample_bytree': 0.8, 'subsample': 0.85},\n",
       "  mean: -1.19784, std: 0.03125, params: {'colsample_bytree': 0.8, 'subsample': 0.9},\n",
       "  mean: -1.16407, std: 0.00985, params: {'colsample_bytree': 0.85, 'subsample': 0.6},\n",
       "  mean: -1.16380, std: 0.01488, params: {'colsample_bytree': 0.85, 'subsample': 0.65},\n",
       "  mean: -1.15800, std: 0.01330, params: {'colsample_bytree': 0.85, 'subsample': 0.7},\n",
       "  mean: -1.15585, std: 0.01773, params: {'colsample_bytree': 0.85, 'subsample': 0.75},\n",
       "  mean: -1.15904, std: 0.01816, params: {'colsample_bytree': 0.85, 'subsample': 0.8},\n",
       "  mean: -1.16001, std: 0.02161, params: {'colsample_bytree': 0.85, 'subsample': 0.85},\n",
       "  mean: -1.16087, std: 0.01892, params: {'colsample_bytree': 0.85, 'subsample': 0.9},\n",
       "  mean: -1.16407, std: 0.00985, params: {'colsample_bytree': 0.9, 'subsample': 0.6},\n",
       "  mean: -1.16380, std: 0.01488, params: {'colsample_bytree': 0.9, 'subsample': 0.65},\n",
       "  mean: -1.15800, std: 0.01330, params: {'colsample_bytree': 0.9, 'subsample': 0.7},\n",
       "  mean: -1.15585, std: 0.01773, params: {'colsample_bytree': 0.9, 'subsample': 0.75},\n",
       "  mean: -1.15904, std: 0.01816, params: {'colsample_bytree': 0.9, 'subsample': 0.8},\n",
       "  mean: -1.16001, std: 0.02161, params: {'colsample_bytree': 0.9, 'subsample': 0.85},\n",
       "  mean: -1.16087, std: 0.01892, params: {'colsample_bytree': 0.9, 'subsample': 0.9}],\n",
       " {'colsample_bytree': 0.85, 'subsample': 0.75},\n",
       " -1.1558451533317566)"
      ]
     },
     "execution_count": 63,
     "metadata": {},
     "output_type": "execute_result"
    }
   ],
   "source": [
    "gsearch5b.grid_scores_, gsearch5b.best_params_, gsearch5b.best_score_"
   ]
  },
  {
   "cell_type": "code",
   "execution_count": null,
   "metadata": {
    "collapsed": true,
    "deletable": true,
    "editable": true
   },
   "outputs": [],
   "source": [
    "#Tuning for these parameters has been finilized.\n",
    "#colsample_bytree : 0.85\n",
    "#subsample: 0.75"
   ]
  },
  {
   "cell_type": "code",
   "execution_count": null,
   "metadata": {
    "collapsed": true,
    "deletable": true,
    "editable": true
   },
   "outputs": [],
   "source": [
    "#With gamma==0 we are already controlling complexity pretty well\n",
    "#Now I'll tune the regularization paramenter alpha to reduce overfitting"
   ]
  },
  {
   "cell_type": "code",
   "execution_count": 65,
   "metadata": {
    "collapsed": true,
    "deletable": true,
    "editable": true
   },
   "outputs": [],
   "source": [
    "param_test6 = {\n",
    " 'reg_alpha':[1e-5, 1e-2, 0.1, 1, 100]\n",
    "}\n",
    "gsearch6 = GridSearchCV(estimator = XGBRegressor( learning_rate =0.1, n_estimators=140, max_depth=8,\n",
    " min_child_weight=5, gamma=0, subsample=0.75, colsample_bytree=0.85,\n",
    " objective= 'reg:linear', nthread=4, scale_pos_weight=1, seed=27), \n",
    " param_grid = param_test6 , scoring='neg_median_absolute_error',n_jobs=4, iid=False, cv=5)"
   ]
  },
  {
   "cell_type": "code",
   "execution_count": 66,
   "metadata": {
    "collapsed": false,
    "deletable": true,
    "editable": true
   },
   "outputs": [
    {
     "data": {
      "text/plain": [
       "GridSearchCV(cv=5, error_score='raise',\n",
       "       estimator=XGBRegressor(base_score=0.5, colsample_bylevel=1, colsample_bytree=0.85,\n",
       "       gamma=0, learning_rate=0.1, max_delta_step=0, max_depth=8,\n",
       "       min_child_weight=5, missing=None, n_estimators=140, nthread=4,\n",
       "       objective='reg:linear', reg_alpha=0, reg_lambda=1,\n",
       "       scale_pos_weight=1, seed=27, silent=True, subsample=0.75),\n",
       "       fit_params={}, iid=False, n_jobs=4,\n",
       "       param_grid={'reg_alpha': [1e-05, 0.01, 0.1, 1, 100]},\n",
       "       pre_dispatch='2*n_jobs', refit=True,\n",
       "       scoring='neg_median_absolute_error', verbose=0)"
      ]
     },
     "execution_count": 66,
     "metadata": {},
     "output_type": "execute_result"
    }
   ],
   "source": [
    "gsearch6.fit(train[predictors],train[target])"
   ]
  },
  {
   "cell_type": "code",
   "execution_count": 67,
   "metadata": {
    "collapsed": false,
    "deletable": true,
    "editable": true
   },
   "outputs": [
    {
     "data": {
      "text/plain": [
       "([mean: -1.15585, std: 0.01773, params: {'reg_alpha': 1e-05},\n",
       "  mean: -1.16046, std: 0.01948, params: {'reg_alpha': 0.01},\n",
       "  mean: -1.15892, std: 0.01774, params: {'reg_alpha': 0.1},\n",
       "  mean: -1.15976, std: 0.01223, params: {'reg_alpha': 1},\n",
       "  mean: -1.16648, std: 0.01917, params: {'reg_alpha': 100}],\n",
       " {'reg_alpha': 1e-05},\n",
       " -1.155845046043396)"
      ]
     },
     "execution_count": 67,
     "metadata": {},
     "output_type": "execute_result"
    }
   ],
   "source": [
    "gsearch6.grid_scores_, gsearch6.best_params_, gsearch6.best_score_"
   ]
  },
  {
   "cell_type": "code",
   "execution_count": null,
   "metadata": {
    "collapsed": true,
    "deletable": true,
    "editable": true
   },
   "outputs": [],
   "source": [
    "#Not let's close up on 0.00001"
   ]
  },
  {
   "cell_type": "code",
   "execution_count": 68,
   "metadata": {
    "collapsed": true,
    "deletable": true,
    "editable": true
   },
   "outputs": [],
   "source": [
    "param_test6b = {\n",
    " 'reg_alpha':[0, 0.0006, 0.0005, 0.0003, 0.0001]\n",
    "}\n",
    "gsearch6b = GridSearchCV(estimator = XGBRegressor( learning_rate =0.1, n_estimators=140, max_depth=8,\n",
    " min_child_weight=5, gamma=0, subsample=0.75, colsample_bytree=0.85,\n",
    " objective= 'reg:linear', nthread=4, scale_pos_weight=1, seed=27), \n",
    " param_grid = param_test6b , scoring='neg_median_absolute_error',n_jobs=4, iid=False, cv=5)"
   ]
  },
  {
   "cell_type": "code",
   "execution_count": 69,
   "metadata": {
    "collapsed": false,
    "deletable": true,
    "editable": true
   },
   "outputs": [
    {
     "data": {
      "text/plain": [
       "GridSearchCV(cv=5, error_score='raise',\n",
       "       estimator=XGBRegressor(base_score=0.5, colsample_bylevel=1, colsample_bytree=0.85,\n",
       "       gamma=0, learning_rate=0.1, max_delta_step=0, max_depth=8,\n",
       "       min_child_weight=5, missing=None, n_estimators=140, nthread=4,\n",
       "       objective='reg:linear', reg_alpha=0, reg_lambda=1,\n",
       "       scale_pos_weight=1, seed=27, silent=True, subsample=0.75),\n",
       "       fit_params={}, iid=False, n_jobs=4,\n",
       "       param_grid={'reg_alpha': [0, 0.0006, 0.0005, 0.0003, 0.0001]},\n",
       "       pre_dispatch='2*n_jobs', refit=True,\n",
       "       scoring='neg_median_absolute_error', verbose=0)"
      ]
     },
     "execution_count": 69,
     "metadata": {},
     "output_type": "execute_result"
    }
   ],
   "source": [
    "gsearch6b.fit(train[predictors],train[target])"
   ]
  },
  {
   "cell_type": "code",
   "execution_count": 70,
   "metadata": {
    "collapsed": false,
    "deletable": true,
    "editable": true
   },
   "outputs": [
    {
     "data": {
      "text/plain": [
       "([mean: -1.15585, std: 0.01773, params: {'reg_alpha': 0},\n",
       "  mean: -1.15734, std: 0.01949, params: {'reg_alpha': 0.0006},\n",
       "  mean: -1.15777, std: 0.01879, params: {'reg_alpha': 0.0005},\n",
       "  mean: -1.15528, std: 0.01715, params: {'reg_alpha': 0.0003},\n",
       "  mean: -1.15584, std: 0.01773, params: {'reg_alpha': 0.0001}],\n",
       " {'reg_alpha': 0.0003},\n",
       " -1.155277633666992)"
      ]
     },
     "execution_count": 70,
     "metadata": {},
     "output_type": "execute_result"
    }
   ],
   "source": [
    "gsearch6b.grid_scores_, gsearch6b.best_params_, gsearch6b.best_score_"
   ]
  },
  {
   "cell_type": "code",
   "execution_count": null,
   "metadata": {
    "collapsed": true,
    "deletable": true,
    "editable": true
   },
   "outputs": [],
   "source": [
    "##Optimal alpha value is 0.0003"
   ]
  },
  {
   "cell_type": "code",
   "execution_count": null,
   "metadata": {
    "collapsed": true,
    "deletable": true,
    "editable": true
   },
   "outputs": [],
   "source": [
    "##Now I'll update and run the model with the new parameters"
   ]
  },
  {
   "cell_type": "code",
   "execution_count": 71,
   "metadata": {
    "collapsed": true,
    "deletable": true,
    "editable": true
   },
   "outputs": [],
   "source": [
    "xgb3 = XGBRegressor(\n",
    " learning_rate =0.1,\n",
    " n_estimators=1000,\n",
    " max_depth=8,\n",
    " min_child_weight=5,\n",
    " gamma=0,\n",
    " subsample=0.75,\n",
    " colsample_bytree=0.85,\n",
    " reg_alpha=0.0003,   \n",
    " objective= 'reg:linear',\n",
    " nthread=4,\n",
    " scale_pos_weight=1,\n",
    " silent=False,   \n",
    " seed=27)"
   ]
  },
  {
   "cell_type": "code",
   "execution_count": 72,
   "metadata": {
    "collapsed": false,
    "deletable": true,
    "editable": true
   },
   "outputs": [
    {
     "name": "stdout",
     "output_type": "stream",
     "text": [
      "\n",
      "Model Report\n",
      "R^2 Score : 0.9676\n",
      "Mean Square Error : 5.276\n",
      "Median Absolute Error : 1.007\n",
      "Mean Absolute Error : 1.576\n"
     ]
    },
    {
     "data": {
      "image/png": "[encoded data removed]",
      "text/plain": [
       "<matplotlib.figure.Figure at 0x10589d400>"
      ]
     },
     "metadata": {},
     "output_type": "display_data"
    }
   ],
   "source": [
    "apply_xgboost(xgb3, train, predictors)\n",
    "#Old model report\n",
    "#Explained Variance Score : 0.9672\n",
    "#R^2 Score : 0.9672\n",
    "#Mean Square Error : 5.339\n",
    "#Median Absolute Error : 1.017\n",
    "#Mean Absolute Error : 1.587"
   ]
  },
  {
   "cell_type": "code",
   "execution_count": null,
   "metadata": {
    "collapsed": true,
    "deletable": true,
    "editable": true
   },
   "outputs": [],
   "source": [
    "#The model as slightly improved\n",
    "#Now I'll slow down the learning rate and increase the number of trees to fully implement the newly tuned paramenters"
   ]
  },
  {
   "cell_type": "code",
   "execution_count": 13,
   "metadata": {
    "collapsed": true,
    "deletable": true,
    "editable": true
   },
   "outputs": [],
   "source": [
    "xgb4 = XGBRegressor(\n",
    " learning_rate =0.05,\n",
    " n_estimators=5000,\n",
    " max_depth=8,\n",
    " min_child_weight=5,\n",
    " gamma=0,\n",
    " subsample=0.75,\n",
    " colsample_bytree=0.85,\n",
    " reg_alpha=0.0003,   \n",
    " objective= 'reg:linear',\n",
    " nthread=4,\n",
    " scale_pos_weight=1,\n",
    " silent=0,   \n",
    " seed=27)"
   ]
  },
  {
   "cell_type": "code",
   "execution_count": null,
   "metadata": {
    "collapsed": true,
    "deletable": true,
    "editable": true
   },
   "outputs": [],
   "source": []
  },
  {
   "cell_type": "code",
   "execution_count": 14,
   "metadata": {
    "collapsed": false,
    "deletable": true,
    "editable": true
   },
   "outputs": [
    {
     "name": "stdout",
     "output_type": "stream",
     "text": [
      "\n",
      "Model Report\n",
      "R^2 Score : 0.9673\n",
      "Mean Square Error : 5.289\n",
      "Median Absolute Error : 0.9954\n",
      "Mean Absolute Error : 1.573\n"
     ]
    },
    {
     "data": {
      "image/png": "[encoded data removed]",
      "text/plain": [
       "<matplotlib.figure.Figure at 0x10d1134a8>"
      ]
     },
     "metadata": {},
     "output_type": "display_data"
    }
   ],
   "source": [
    "apply_xgboost(xgb4, train, predictors)\n",
    "#Previous Model Report\n",
    "#R^2 Score : 0.9676\n",
    "#Mean Square Error : 5.276\n",
    "#Median Absolute Error : 1.007\n",
    "#Mean Absolute Error : 1.576"
   ]
  },
  {
   "cell_type": "code",
   "execution_count": null,
   "metadata": {
    "collapsed": true,
    "deletable": true,
    "editable": true
   },
   "outputs": [],
   "source": []
  },
  {
   "cell_type": "code",
   "execution_count": null,
   "metadata": {
    "collapsed": true,
    "deletable": true,
    "editable": true
   },
   "outputs": [],
   "source": [
    "##Major improvement, sub 1 Median Absolute Error has been achieved"
   ]
  },
  {
   "cell_type": "code",
   "execution_count": 22,
   "metadata": {
    "collapsed": true,
    "deletable": true,
    "editable": true
   },
   "outputs": [],
   "source": [
    "#from sklearn.model_selection import train_test_split\n",
    "#train, test = train_test_split(df, test_size = 0.2)"
   ]
  },
  {
   "cell_type": "code",
   "execution_count": 49,
   "metadata": {
    "collapsed": false,
    "deletable": true,
    "editable": true
   },
   "outputs": [],
   "source": [
    "X1, y1 = make_classification(n_samples=1000, n_features=20, n_informative=4, random_state=seed)"
   ]
  },
  {
   "cell_type": "code",
   "execution_count": 50,
   "metadata": {
    "collapsed": false,
    "deletable": true,
    "editable": true,
    "scrolled": true
   },
   "outputs": [],
   "source": [
    "cv = StratifiedKFold(y1, n_folds=5, shuffle=True, random_state=seed)"
   ]
  },
  {
   "cell_type": "code",
   "execution_count": 141,
   "metadata": {
    "collapsed": false,
    "deletable": true,
    "editable": true
   },
   "outputs": [],
   "source": [
    "default_params = {\n",
    " 'learning_rate': 0.05,\n",
    " 'n_estimators': 5000,\n",
    " 'max_depth': 8,\n",
    " 'min_child_weight': 5,\n",
    " 'gamma': 0,\n",
    " 'subsample': 0.75,\n",
    " 'colsample_bytree': 0.85,\n",
    " 'reg_alpha': 0.0003,   \n",
    " 'objective' : 'reg:linear',\n",
    " 'nthread': 4,\n",
    " 'scale_pos_weight' : 1,\n",
    " 'silent': 1\n",
    "}"
   ]
  },
  {
   "cell_type": "code",
   "execution_count": 142,
   "metadata": {
    "collapsed": true,
    "deletable": true,
    "editable": true
   },
   "outputs": [],
   "source": [
    "n_estimators_range = np.linspace(1,200,10).astype('int')"
   ]
  },
  {
   "cell_type": "code",
   "execution_count": 143,
   "metadata": {
    "collapsed": false,
    "deletable": true,
    "editable": true
   },
   "outputs": [],
   "source": [
    "train_scores, test_scores = validation_curve(\n",
    "        xgb4,\n",
    "        X1, y1,\n",
    "        param_name = 'n_estimators',\n",
    "        param_range = n_estimators_range,\n",
    "        cv=cv,\n",
    "        scoring = 'neg_mean_squared_error'\n",
    ")"
   ]
  },
  {
   "cell_type": "code",
   "execution_count": 145,
   "metadata": {
    "collapsed": false,
    "deletable": true,
    "editable": true
   },
   "outputs": [
    {
     "data": {
      "image/png": "[encoded data removed]",
      "text/plain": [
       "<matplotlib.figure.Figure at 0x112fbc240>"
      ]
     },
     "metadata": {},
     "output_type": "display_data"
    },
    {
     "name": "stdout",
     "output_type": "stream",
     "text": [
      "Best Cross-Validation Results (-0.08) obtained for 111 tree\n"
     ]
    }
   ],
   "source": [
    "train_scores_mean = np.mean(train_scores, axis = 1)\n",
    "train_scores_std = np.std(train_scores, axis = 1)\n",
    "test_scores_mean = np.mean(test_scores, axis = 1)\n",
    "test_scores_std = np.std(test_scores, axis = 1)\n",
    "\n",
    "fig = plt2.figure(figsize=(7,5), dpi=100)\n",
    "\n",
    "plt2.title('XGboost Validation Curve, eta = 0.05')\n",
    "plt2.xlabel('Number of trees')\n",
    "plt2.ylabel('Neg Mean Squared Error')\n",
    "\n",
    "plt2.plot(n_estimators_range, train_scores_mean,\n",
    "          label= 'Training Score', color = 'r' )\n",
    "\n",
    "plt2.plot(n_estimators_range, test_scores_mean,\n",
    "          label= 'Cross Validation Scores', color = 'g' )\n",
    "\n",
    "plt2.fill_between(n_estimators_range,\n",
    "                 train_scores_mean - train_scores_std,\n",
    "                 train_scores_mean + train_scores_std,\n",
    "                 alpha=0.5, color = 'r')\n",
    "\n",
    "plt2.fill_between(n_estimators_range,\n",
    "                 test_scores_mean - test_scores_std,\n",
    "                 test_scores_mean + test_scores_std,\n",
    "                 alpha=0.5, color = 'g')\n",
    "\n",
    "plt2.axhline(y=0.0, color='k', ls='dashed')\n",
    "plt2.legend(loc='best')\n",
    "plt2.show()\n",
    "\n",
    "i = np.argmax(test_scores_mean)\n",
    "print(\"Best Cross-Validation Results ({0:.2f}) obtained for {1} tree\".format(test_scores_mean[i], n_estimators_range[i]))"
   ]
  }
 ],
 "metadata": {
  "kernelspec": {
   "display_name": "Python 3",
   "language": "python",
   "name": "python3"
  },
  "language_info": {
   "codemirror_mode": {
    "name": "ipython",
    "version": 3
   },
   "file_extension": ".py",
   "mimetype": "text/x-python",
   "name": "python",
   "nbconvert_exporter": "python",
   "pygments_lexer": "ipython3",
   "version": "3.6.0"
  }
 },
 "nbformat": 4,
 "nbformat_minor": 2
}
